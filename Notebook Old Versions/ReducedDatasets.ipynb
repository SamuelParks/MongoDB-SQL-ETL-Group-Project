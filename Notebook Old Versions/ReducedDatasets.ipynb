{
 "cells": [
  {
   "cell_type": "code",
   "execution_count": 1,
   "metadata": {},
   "outputs": [],
   "source": [
    "# Dependencies and Setup\n",
    "import pandas as pd\n",
    "import os\n",
    "import numpy as np\n",
    "\n",
    "# File to Load (Titles are changed again below)\n",
    "true_car_data_to_load = os.path.join(\"Resources\", \"Original_Data_Pull\", \"true_car_listings.csv\")\n",
    "craigslist_data_to_load = os.path.join(\"Resources\", \"Original_Data_Pull\", \"vehicles.csv\")\n",
    "\n",
    "# Reads both files and stores them into Pandas Data Frames\n",
    "true_car_df = pd.read_csv(true_car_data_to_load)\n",
    "craigslist_df = pd.read_csv(craigslist_data_to_load)"
   ]
  },
  {
   "cell_type": "code",
   "execution_count": 2,
   "metadata": {},
   "outputs": [],
   "source": [
    "total_true_car_VINs = len(true_car_df[\"Vin\"].unique())\n",
    "total_craigslist_VINs = len(craigslist_df[\"vin\"].unique())"
   ]
  },
  {
   "cell_type": "code",
   "execution_count": 3,
   "metadata": {},
   "outputs": [
    {
     "name": "stdout",
     "output_type": "stream",
     "text": [
      "Total unique VIN records for the Craigslist data set is 181678.\n"
     ]
    }
   ],
   "source": [
    "print(f\"Total unique VIN records for the Craigslist data set is {total_craigslist_VINs}.\")"
   ]
  },
  {
   "cell_type": "code",
   "execution_count": 4,
   "metadata": {},
   "outputs": [
    {
     "name": "stdout",
     "output_type": "stream",
     "text": [
      "Total unique VIN records for the True Care data set is 852075.\n"
     ]
    }
   ],
   "source": [
    "print(f\"Total unique VIN records for the True Care data set is {total_true_car_VINs}.\")"
   ]
  },
  {
   "cell_type": "code",
   "execution_count": 5,
   "metadata": {},
   "outputs": [
    {
     "data": {
      "text/plain": [
       "manufacturer\n",
       "acura               2371\n",
       "alfa-romeo            68\n",
       "aston-martin          20\n",
       "audi                3915\n",
       "bmw                 9135\n",
       "buick               4505\n",
       "cadillac            4737\n",
       "chevrolet          45185\n",
       "chrysler            4760\n",
       "datsun                25\n",
       "dodge              10599\n",
       "ferrari               45\n",
       "fiat                 645\n",
       "ford               58361\n",
       "gmc                14481\n",
       "harley-davidson      152\n",
       "hennessey              0\n",
       "honda              14042\n",
       "hyundai             8360\n",
       "infiniti            2755\n",
       "jaguar               642\n",
       "jeep               15592\n",
       "kia                 6323\n",
       "land rover             5\n",
       "lexus               3908\n",
       "lincoln             2009\n",
       "mazda               3785\n",
       "mercedes-benz       7405\n",
       "mercury              799\n",
       "mini                1563\n",
       "mitsubishi          1597\n",
       "morgan                 2\n",
       "nissan             17351\n",
       "pontiac             1488\n",
       "porche                 6\n",
       "ram                17325\n",
       "rover               1346\n",
       "saturn               810\n",
       "subaru              7004\n",
       "tesla                202\n",
       "toyota             23626\n",
       "volkswagen          6457\n",
       "volvo               1713\n",
       "Name: vin, dtype: int64"
      ]
     },
     "execution_count": 5,
     "metadata": {},
     "output_type": "execute_result"
    }
   ],
   "source": [
    "craigslist_grouped_by_make = craigslist_df.groupby(['manufacturer'])\n",
    "craigslist_count_by_make = craigslist_grouped_by_make[\"vin\"].count()\n",
    "craigslist_count_by_make"
   ]
  },
  {
   "cell_type": "code",
   "execution_count": 6,
   "metadata": {},
   "outputs": [
    {
     "data": {
      "text/plain": [
       "Make\n",
       "AM                   19\n",
       "Acura             11049\n",
       "Alfa                 44\n",
       "Aston               149\n",
       "Audi              12618\n",
       "BMW               32415\n",
       "Bentley             367\n",
       "Buick             12491\n",
       "Cadillac          15047\n",
       "Chevrolet        102268\n",
       "Chrysler          16357\n",
       "Dodge             34368\n",
       "FIAT               1782\n",
       "Ferrari             345\n",
       "Fisker               19\n",
       "Ford             110432\n",
       "Freightliner         11\n",
       "GMC               29008\n",
       "Genesis             141\n",
       "Geo                   2\n",
       "HUMMER              949\n",
       "Honda             50193\n",
       "Hyundai           35837\n",
       "INFINITI          12258\n",
       "Isuzu                76\n",
       "Jaguar             2200\n",
       "Jeep              40373\n",
       "Kia               28636\n",
       "Lamborghini         121\n",
       "Land               4096\n",
       "Lexus             20641\n",
       "Lincoln            7120\n",
       "Lotus                42\n",
       "MINI               4375\n",
       "Maserati           1047\n",
       "Maybach              10\n",
       "Mazda             13365\n",
       "McLaren              47\n",
       "Mercedes-Benz     26323\n",
       "Mercury            1076\n",
       "Mitsubishi         4080\n",
       "Nissan            66250\n",
       "Oldsmobile          122\n",
       "Plymouth             51\n",
       "Pontiac            1783\n",
       "Porsche            4106\n",
       "Ram               19808\n",
       "Rolls-Royce          92\n",
       "Saab                260\n",
       "Saturn              963\n",
       "Scion              3043\n",
       "Subaru            16428\n",
       "Suzuki              334\n",
       "Tesla               231\n",
       "Toyota            77786\n",
       "Volkswagen        23249\n",
       "Volvo              5106\n",
       "smart               713\n",
       "Name: Vin, dtype: int64"
      ]
     },
     "execution_count": 6,
     "metadata": {},
     "output_type": "execute_result"
    }
   ],
   "source": [
    "true_car_grouped_by_make = true_car_df.groupby(['Make'])\n",
    "true_car_count_by_make = true_car_grouped_by_make[\"Vin\"].count()\n",
    "true_car_count_by_make"
   ]
  },
  {
   "cell_type": "code",
   "execution_count": 7,
   "metadata": {},
   "outputs": [
    {
     "name": "stdout",
     "output_type": "stream",
     "text": [
      "Total unique VIN records for Teslas in the True Care data set is 231.\n",
      "Total unique VIN records for Teslas in the Craigslist data set is 127.\n",
      "Please note that Craigslist listed cars have many duplicate cars; whereas, True Cars does not.\n"
     ]
    }
   ],
   "source": [
    "# To get a subset of roughly 250 from each dataset each for the complete data frame for Mongo DB demonstration, \n",
    "# sorting by the manufacturer Tesla was chosen because it is the closest when considering each of the two data frames.\n",
    "\n",
    "# Please note that Craigslist listed cars have many duplicate cars; whereas, True Cars does not.\n",
    "\n",
    "just_true_car_tesla = true_car_df.loc[true_car_df[\"Make\"] == \"Tesla\",:]\n",
    "total_true_car_tesla = len(just_true_car_tesla[\"Vin\"].unique())\n",
    "total_true_car_tesla\n",
    "print(f\"Total unique VIN records for Teslas in the True Care data set is {total_true_car_tesla}.\")\n",
    "\n",
    "just_craigslist_tesla = craigslist_df.loc[craigslist_df[\"manufacturer\"] == \"tesla\",:]\n",
    "total_craigslist_tesla = len(just_craigslist_tesla[\"vin\"].unique())\n",
    "total_craigslist_tesla\n",
    "print(f\"Total unique VIN records for Teslas in the Craigslist data set is {total_craigslist_tesla}.\")\n",
    "print(f\"Please note that Craigslist listed cars have many duplicate cars; whereas, True Cars does not.\")"
   ]
  },
  {
   "cell_type": "code",
   "execution_count": 8,
   "metadata": {},
   "outputs": [],
   "source": [
    "# To get a subset of roughly 50 each for the testing data frame,"
   ]
  },
  {
   "cell_type": "code",
   "execution_count": 9,
   "metadata": {},
   "outputs": [
    {
     "data": {
      "text/plain": [
       "Model\n",
       "Model          224\n",
       "Roadster         1\n",
       "Roadster2dr      6\n",
       "Name: Vin, dtype: int64"
      ]
     },
     "execution_count": 9,
     "metadata": {},
     "output_type": "execute_result"
    }
   ],
   "source": [
    "true_TESLA_grouped_by_year = just_true_car_tesla.groupby(['Model'])\n",
    "true_TESLA_count_by_year = true_TESLA_grouped_by_year[\"Vin\"].count()\n",
    "true_TESLA_count_by_year"
   ]
  },
  {
   "cell_type": "code",
   "execution_count": 10,
   "metadata": {},
   "outputs": [
    {
     "data": {
      "text/plain": [
       "model\n",
       "model 3                           41\n",
       "model 3 long range                 0\n",
       "model 3 long range awd             1\n",
       "model 3 performance                2\n",
       "model 3 rwd                        1\n",
       "model s                           82\n",
       "model s 100d                       1\n",
       "model s 70d sedan 4d automatic     1\n",
       "model s 75                         0\n",
       "model s 75d                        6\n",
       "model s 75d automatic              1\n",
       "model s 85                         4\n",
       "model s 85 performance             1\n",
       "model s 90d                        1\n",
       "model s 90d awd autopilot          1\n",
       "model s one owner 10/10            0\n",
       "model s p85d                       1\n",
       "model s p90d                       1\n",
       "model s sedan                      2\n",
       "model s signature perform          1\n",
       "model s75                          0\n",
       "model x                           38\n",
       "model x 100d awd                   1\n",
       "model x 75d automatic              1\n",
       "model x 75d autopilot              1\n",
       "model x 90d                        0\n",
       "model x awd 90d                    1\n",
       "model x long range                 3\n",
       "roadster                           1\n",
       "s                                  2\n",
       "s 2013 performance 85              1\n",
       "s 70                               1\n",
       "s 75                               0\n",
       "s 75d                              1\n",
       "s 85                               0\n",
       "s 85d                              0\n",
       "s p85                              0\n",
       "s75d                               1\n",
       "s85                                0\n",
       "x                                  1\n",
       "Name: vin, dtype: int64"
      ]
     },
     "execution_count": 10,
     "metadata": {},
     "output_type": "execute_result"
    }
   ],
   "source": [
    "craigslist_TESLA_grouped_by_make = just_craigslist_tesla.groupby(['model'])\n",
    "craigslist_TESLA_count_by_year = craigslist_TESLA_grouped_by_make[\"vin\"].count()\n",
    "craigslist_TESLA_count_by_year"
   ]
  },
  {
   "cell_type": "code",
   "execution_count": 16,
   "metadata": {},
   "outputs": [],
   "source": [
    "# To get a subset of roughly 50 from each dataset each for the TESTING data frame for Mongo DB demonstration, \n",
    "# this randomly selects 50 from each of the Tesla-filtered datasets because other methods of filtering down \n",
    "# to 50 would impact the things we want to test or not be close to 50 each.\n",
    "\n",
    "chosen_index = np.random.choice(len(just_true_car_tesla[\"Vin\"].unique()), replace=False, size=50)\n",
    "just_true_car_tesla_trimmed = just_true_car_tesla.iloc[chosen_index]\n",
    "\n",
    "chosen_index = np.random.choice(len(just_craigslist_tesla[\"vin\"].unique()), replace=False, size=50)\n",
    "just_craigslist_tesla_trimmed = just_craigslist_tesla.iloc[chosen_index]"
   ]
  },
  {
   "cell_type": "code",
   "execution_count": 18,
   "metadata": {},
   "outputs": [],
   "source": [
    "# Output csv files from data frames\n",
    "\n",
    "# This converts the Pandas data frame into an CSV table without the Pandas Index being included\n",
    "just_true_car_tesla_trimmed.to_csv('True-Car-Test-50.csv', index=False)\n",
    "just_craigslist_tesla_trimmed.to_csv('Craigslist-Test-50.csv', index=False)\n",
    "just_true_car_tesla.to_csv('True-Car-Complete-Tesla.csv', index=False)\n",
    "just_craigslist_tesla.to_csv('Craigslist-Complete-Tesla.csv', index=False)"
   ]
  },
  {
   "cell_type": "code",
   "execution_count": null,
   "metadata": {},
   "outputs": [],
   "source": []
  }
 ],
 "metadata": {
  "kernelspec": {
   "display_name": "PythonData",
   "language": "python",
   "name": "pythondata"
  },
  "language_info": {
   "codemirror_mode": {
    "name": "ipython",
    "version": 3
   },
   "file_extension": ".py",
   "mimetype": "text/x-python",
   "name": "python",
   "nbconvert_exporter": "python",
   "pygments_lexer": "ipython3",
   "version": "3.8.2"
  }
 },
 "nbformat": 4,
 "nbformat_minor": 4
}
